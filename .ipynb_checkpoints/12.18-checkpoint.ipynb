{
 "cells": [
  {
   "cell_type": "markdown",
   "metadata": {},
   "source": [
    "## 找一個好的編輯器"
   ]
  },
  {
   "cell_type": "markdown",
   "metadata": {},
   "source": [
    "* Visual Studio Code\n",
    "* VIM"
   ]
  },
  {
   "cell_type": "code",
   "execution_count": 3,
   "metadata": {},
   "outputs": [],
   "source": [
    "!mkdir eggs #!直接下系統指令  創一個新的資料夾"
   ]
  },
  {
   "cell_type": "code",
   "execution_count": 4,
   "metadata": {},
   "outputs": [
    {
     "name": "stdout",
     "output_type": "stream",
     "text": [
      " 磁碟區 C 中的磁碟是 Windows\n",
      " 磁碟區序號:  C4DE-4F44\n",
      "\n",
      " C:\\Users\\Kevin\\Desktop\\python 的目錄\n",
      "\n",
      "2019/12/18  上午 09:43    <DIR>          .\n",
      "2019/12/18  上午 09:43    <DIR>          ..\n",
      "2019/12/18  上午 09:16    <DIR>          .ipynb_checkpoints\n",
      "2019/10/08  下午 10:30             4,214 10.02  作業.ipynb\n",
      "2019/10/15  下午 10:34            28,952 10.09 作業.ipynb\n",
      "2019/10/21  下午 03:02             1,445 10.16 hw1.ipynb\n",
      "2019/11/12  下午 11:58            39,108 10.30 hw.ipynb\n",
      "2019/11/19  下午 11:25           238,664 11.13 hw .ipynb\n",
      "2019/11/19  下午 11:34            27,340 11.13 hw 非全部變數.ipynb\n",
      "2019/12/04  上午 11:18            10,743 12.04 第12堂.ipynb\n",
      "2019/12/11  上午 11:36           427,972 12.11 (第13堂).ipynb\n",
      "2019/12/18  上午 09:43               916 12.18.ipynb\n",
      "2019/09/24  下午 07:56            24,808 2.2.ipynb\n",
      "2019/09/24  下午 09:14             2,732 2.3.ipynb\n",
      "2019/11/19  下午 10:39            50,053 boston .ipynb\n",
      "2019/11/12  下午 11:57             6,453 currency.xlsx\n",
      "2019/10/08  下午 10:30               465 eating.py\n",
      "2019/12/18  上午 09:43    <DIR>          eggs\n",
      "2019/09/24  下午 09:07             2,204 hw2 pipi.ipynb\n",
      "2019/09/24  下午 07:56             3,570 hw2.ipynb\n",
      "2019/10/01  下午 09:42             2,761 hw3.ipynb\n",
      "2019/12/11  上午 10:15    <DIR>          my work\n",
      "2019/10/16  上午 10:57                82 mydic.pickle\n",
      "2019/10/16  上午 10:23                36 mydict.csv\n",
      "2019/09/18  上午 10:01             7,821 pig.jpg\n",
      "2019/10/02  上午 09:58               423 poem.py\n",
      "2019/10/02  上午 10:45                44 README.md.txt\n",
      "2019/10/16  上午 11:25                31 test.txt\n",
      "2019/09/25  下午 01:19               749 Untitled.ipynb\n",
      "2019/09/17  下午 03:11            30,028 Untitled1.ipynb\n",
      "2019/10/15  下午 11:03             2,334 Untitled2.ipynb\n",
      "2019/10/15  下午 11:07                72 Untitled3.ipynb\n",
      "2019/10/22  下午 01:36             2,751 Untitled4.ipynb\n",
      "2019/12/02  下午 04:27             1,510 use.csv\n",
      "2019/11/22  下午 03:21           306,308 第10堂  機器學習(SVM).ipynb\n",
      "2019/12/03  下午 09:53           444,996 第11堂.ipynb\n",
      "2019/10/08  下午 09:25             7,499 第4堂.ipynb\n",
      "2019/10/23  下午 12:00           197,814 第7堂.ipynb\n",
      "2019/12/18  上午 09:27            97,892 第9堂.ipynb\n",
      "2019/09/17  下午 08:02            32,644 第一堂Python.ipynb\n",
      "2019/11/24  下午 08:02            61,922 第二堂.ipynb\n",
      "2019/10/22  下午 01:35            24,048 第三堂.ipynb\n",
      "2019/10/15  下午 10:14            84,692 第五堂.ipynb\n",
      "2019/10/16  下午 12:02            33,139 第六堂.ipynb\n",
      "              39 個檔案       2,209,235 位元組\n",
      "               5 個目錄  184,028,844,032 位元組可用\n"
     ]
    }
   ],
   "source": [
    "%ls"
   ]
  },
  {
   "cell_type": "code",
   "execution_count": 5,
   "metadata": {},
   "outputs": [
    {
     "name": "stdout",
     "output_type": "stream",
     "text": [
      "C:\\Users\\Kevin\\Desktop\\python\\eggs\n"
     ]
    }
   ],
   "source": [
    "%cd eggs"
   ]
  },
  {
   "cell_type": "code",
   "execution_count": 7,
   "metadata": {},
   "outputs": [],
   "source": [
    "import numpy as np"
   ]
  },
  {
   "cell_type": "code",
   "execution_count": 12,
   "metadata": {},
   "outputs": [],
   "source": [
    "from random import randint"
   ]
  },
  {
   "cell_type": "code",
   "execution_count": 13,
   "metadata": {},
   "outputs": [
    {
     "name": "stdout",
     "output_type": "stream",
     "text": [
      "55,28,84,29,56,99,7,62,96,41,61,7,66,56,70,15,1,19,89,12,87,5,57,99,26,62,60,88,74,100,66,14,18,9,94,75,42,61,67,58,32,81,27,50,53,23,70,28,95,75,63,36,51,40,20,45,13,99,77,85,80,19,95,86,62,3,100,18,43,23,36,94,56,100,46,55,23,25,58,29,22,62,18,36,14,29,50,45,90,1,14,34,34,72,55,23,28,36,36,84,"
     ]
    }
   ],
   "source": [
    "for i in range(100):\n",
    "    print(randint(1,100),end=',')"
   ]
  },
  {
   "cell_type": "code",
   "execution_count": 14,
   "metadata": {},
   "outputs": [
    {
     "name": "stdout",
     "output_type": "stream",
     "text": [
      "27,7,28,90,88,61,78,38,96,28,35,61,22,59,75,82,86,64,81,57,23,77,23,81,87,73,91,4,31,81,1,7,92,29,97,90,86,65,46,48,77,46,68,7,51,2,65,85,1,36,95,25,14,31,38,71,73,28,4,35,66,91,70,63,84,8,91,8,7,90,79,84,36,36,10,48,46,23,29,75,63,2,38,64,47,39,15,2,86,72,45,52,7,18,30,4,10,11,61,5,"
     ]
    }
   ],
   "source": [
    "for i in range(100):\n",
    "    print(np.random.randint(1,100),end=',') #但沒有100 只有1到99"
   ]
  },
  {
   "cell_type": "code",
   "execution_count": 15,
   "metadata": {},
   "outputs": [
    {
     "name": "stdout",
     "output_type": "stream",
     "text": [
      "你今天的幸運數字 77!\n"
     ]
    }
   ],
   "source": [
    "n = randint(1,100)\n",
    "print(f\"你今天的幸運數字 {n}!\")"
   ]
  },
  {
   "cell_type": "code",
   "execution_count": 16,
   "metadata": {},
   "outputs": [
    {
     "name": "stdout",
     "output_type": "stream",
     "text": [
      "The following commands were written to file `lucky.py`:\n",
      "from random import randint\n",
      "n = randint(1,100)\n",
      "print(f\"你今天的幸運數字 {n}!\")\n"
     ]
    }
   ],
   "source": [
    "%save lucky.py 12 15 "
   ]
  },
  {
   "cell_type": "code",
   "execution_count": null,
   "metadata": {},
   "outputs": [],
   "source": []
  },
  {
   "cell_type": "code",
   "execution_count": null,
   "metadata": {},
   "outputs": [],
   "source": []
  },
  {
   "cell_type": "markdown",
   "metadata": {},
   "source": [
    "# Python 網頁框架"
   ]
  },
  {
   "cell_type": "markdown",
   "metadata": {},
   "source": [
    "* Django(大型專案)\n",
    "* Flask(小巧)"
   ]
  },
  {
   "cell_type": "code",
   "execution_count": 17,
   "metadata": {},
   "outputs": [
    {
     "name": "stdout",
     "output_type": "stream",
     "text": [
      "Collecting streamlit\n",
      "  Downloading https://files.pythonhosted.org/packages/37/e2/c92db0c7e99f33f2e06d7a7fbd5237dfbb3272ee4ecaedc8c064a6c305a8/streamlit-0.51.0-py2.py3-none-any.whl (6.3MB)\n",
      "Collecting astor (from streamlit)\n",
      "  Downloading https://files.pythonhosted.org/packages/c3/88/97eef84f48fa04fbd6750e62dcceafba6c63c81b7ac1420856c8dcc0a3f9/astor-0.8.1-py2.py3-none-any.whl\n",
      "Collecting botocore (from streamlit)\n",
      "  Downloading https://files.pythonhosted.org/packages/49/e0/a9a53656126a635120c0f7eaee3ff3b26a4a08596d10e7192fd91ce19e5c/botocore-1.13.41-py2.py3-none-any.whl (5.8MB)\n",
      "Collecting enum-compat (from streamlit)\n",
      "  Downloading https://files.pythonhosted.org/packages/55/ae/467bc4509246283bb59746e21a1a2f5a8aecbef56b1fa6eaca78cd438c8b/enum_compat-0.0.3-py3-none-any.whl\n",
      "Collecting blinker (from streamlit)\n",
      "  Downloading https://files.pythonhosted.org/packages/1b/51/e2a9f3b757eb802f61dc1f2b09c8c99f6eb01cf06416c0671253536517b6/blinker-1.4.tar.gz (111kB)\n",
      "Requirement already satisfied: click>=7.0 in c:\\users\\kevin\\anaconda3\\lib\\site-packages (from streamlit) (7.0)\n",
      "Requirement already satisfied: numpy in c:\\users\\kevin\\anaconda3\\lib\\site-packages (from streamlit) (1.16.4)\n",
      "Collecting boto3 (from streamlit)\n",
      "  Downloading https://files.pythonhosted.org/packages/39/8b/250778bc5fd4b9a91d7916f8729b346931be419052130548617139247ba6/boto3-1.10.41-py2.py3-none-any.whl (128kB)\n",
      "Requirement already satisfied: requests in c:\\users\\kevin\\anaconda3\\lib\\site-packages (from streamlit) (2.22.0)\n",
      "Collecting watchdog (from streamlit)\n",
      "  Downloading https://files.pythonhosted.org/packages/bb/e3/5a55d48a29300160779f0a0d2776d17c1b762a2039b36de528b093b87d5b/watchdog-0.9.0.tar.gz (85kB)\n",
      "Requirement already satisfied: future in c:\\users\\kevin\\anaconda3\\lib\\site-packages (from streamlit) (0.17.1)\n",
      "Collecting protobuf>=3.6.0 (from streamlit)\n",
      "  Downloading https://files.pythonhosted.org/packages/94/1d/82d9b8028f1e85bbe9beb74058b276db9cfb7e1afdb3174651a4828e5e9e/protobuf-3.11.1-cp37-cp37m-win_amd64.whl (1.0MB)\n",
      "Collecting pillow>=6.2.0 (from streamlit)\n",
      "  Downloading https://files.pythonhosted.org/packages/70/f4/9dd0b7b0fea09cf4e7a2822031f2157f40d41f0252a89558bdb583e24ef1/Pillow-6.2.1-cp37-cp37m-win_amd64.whl (2.0MB)\n",
      "Collecting tornado<6.0,>=5.0 (from streamlit)\n",
      "  Downloading https://files.pythonhosted.org/packages/d7/d5/99aff77c15da335e3dbf30254b304a526494dca8e51b4b47419772e35a4e/tornado-5.1.1-cp37-cp37m-win_amd64.whl (455kB)\n",
      "Collecting altair>=3.2.0 (from streamlit)\n",
      "  Downloading https://files.pythonhosted.org/packages/67/fe/2584ab143719f073abb4884049a1ef2e5daf277d9c5a3a47df03cd7ad4ab/altair-4.0.0-py2.py3-none-any.whl (709kB)\n",
      "Requirement already satisfied: pandas>=0.21.0 in c:\\users\\kevin\\anaconda3\\lib\\site-packages (from streamlit) (0.24.2)\n",
      "Collecting toml (from streamlit)\n",
      "  Downloading https://files.pythonhosted.org/packages/a2/12/ced7105d2de62fa7c8fb5fce92cc4ce66b57c95fb875e9318dba7f8c5db0/toml-0.10.0-py2.py3-none-any.whl\n",
      "Collecting validators (from streamlit)\n",
      "  Downloading https://files.pythonhosted.org/packages/72/8a/f99287daae8cfef938e6eec785f6e259bf6bad93269d5398bb546d5b1563/validators-0.14.1.tar.gz\n",
      "Collecting tzlocal (from streamlit)\n",
      "  Downloading https://files.pythonhosted.org/packages/ef/99/53bd1ac9349262f59c1c421d8fcc2559ae8a5eeffed9202684756b648d33/tzlocal-2.0.0-py2.py3-none-any.whl\n",
      "Collecting base58 (from streamlit)\n",
      "  Downloading https://files.pythonhosted.org/packages/09/b2/21ac9591f055acc145afead895edeb73bbd69d95cf366fc5c2233f2434cb/base58-1.0.3-py3-none-any.whl\n",
      "Collecting jmespath<1.0.0,>=0.7.1 (from botocore->streamlit)\n",
      "  Downloading https://files.pythonhosted.org/packages/83/94/7179c3832a6d45b266ddb2aac329e101367fbdb11f425f13771d27f225bb/jmespath-0.9.4-py2.py3-none-any.whl\n",
      "Requirement already satisfied: docutils<0.16,>=0.10 in c:\\users\\kevin\\anaconda3\\lib\\site-packages (from botocore->streamlit) (0.14)\n",
      "Requirement already satisfied: urllib3<1.26,>=1.20; python_version >= \"3.4\" in c:\\users\\kevin\\anaconda3\\lib\\site-packages (from botocore->streamlit) (1.24.2)\n",
      "Requirement already satisfied: python-dateutil<2.8.1,>=2.1; python_version >= \"2.7\" in c:\\users\\kevin\\anaconda3\\lib\\site-packages (from botocore->streamlit) (2.8.0)\n",
      "Collecting s3transfer<0.3.0,>=0.2.0 (from boto3->streamlit)\n",
      "  Downloading https://files.pythonhosted.org/packages/16/8a/1fc3dba0c4923c2a76e1ff0d52b305c44606da63f718d14d3231e21c51b0/s3transfer-0.2.1-py2.py3-none-any.whl (70kB)\n",
      "Requirement already satisfied: idna<2.9,>=2.5 in c:\\users\\kevin\\anaconda3\\lib\\site-packages (from requests->streamlit) (2.8)\n",
      "Requirement already satisfied: certifi>=2017.4.17 in c:\\users\\kevin\\anaconda3\\lib\\site-packages (from requests->streamlit) (2019.6.16)\n",
      "Requirement already satisfied: chardet<3.1.0,>=3.0.2 in c:\\users\\kevin\\anaconda3\\lib\\site-packages (from requests->streamlit) (3.0.4)\n",
      "Requirement already satisfied: PyYAML>=3.10 in c:\\users\\kevin\\anaconda3\\lib\\site-packages (from watchdog->streamlit) (5.1.1)\n",
      "Collecting argh>=0.24.1 (from watchdog->streamlit)\n",
      "  Downloading https://files.pythonhosted.org/packages/06/1c/e667a7126f0b84aaa1c56844337bf0ac12445d1beb9c8a6199a7314944bf/argh-0.26.2-py2.py3-none-any.whl\n",
      "Collecting pathtools>=0.1.1 (from watchdog->streamlit)\n",
      "  Downloading https://files.pythonhosted.org/packages/e7/7f/470d6fcdf23f9f3518f6b0b76be9df16dcc8630ad409947f8be2eb0ed13a/pathtools-0.1.2.tar.gz\n",
      "Requirement already satisfied: six>=1.9 in c:\\users\\kevin\\anaconda3\\lib\\site-packages (from protobuf>=3.6.0->streamlit) (1.12.0)\n",
      "Requirement already satisfied: setuptools in c:\\users\\kevin\\anaconda3\\lib\\site-packages (from protobuf>=3.6.0->streamlit) (41.0.1)\n",
      "Requirement already satisfied: jinja2 in c:\\users\\kevin\\anaconda3\\lib\\site-packages (from altair>=3.2.0->streamlit) (2.10.1)\n",
      "Requirement already satisfied: jsonschema in c:\\users\\kevin\\anaconda3\\lib\\site-packages (from altair>=3.2.0->streamlit) (3.0.1)\n",
      "Requirement already satisfied: toolz in c:\\users\\kevin\\anaconda3\\lib\\site-packages (from altair>=3.2.0->streamlit) (0.10.0)\n",
      "Requirement already satisfied: entrypoints in c:\\users\\kevin\\anaconda3\\lib\\site-packages (from altair>=3.2.0->streamlit) (0.3)\n",
      "Requirement already satisfied: pytz>=2011k in c:\\users\\kevin\\anaconda3\\lib\\site-packages (from pandas>=0.21.0->streamlit) (2019.1)\n",
      "Requirement already satisfied: decorator>=3.4.0 in c:\\users\\kevin\\anaconda3\\lib\\site-packages (from validators->streamlit) (4.4.0)\n",
      "Requirement already satisfied: MarkupSafe>=0.23 in c:\\users\\kevin\\anaconda3\\lib\\site-packages (from jinja2->altair>=3.2.0->streamlit) (1.1.1)\n",
      "Requirement already satisfied: attrs>=17.4.0 in c:\\users\\kevin\\anaconda3\\lib\\site-packages (from jsonschema->altair>=3.2.0->streamlit) (19.1.0)\n",
      "Requirement already satisfied: pyrsistent>=0.14.0 in c:\\users\\kevin\\anaconda3\\lib\\site-packages (from jsonschema->altair>=3.2.0->streamlit) (0.14.11)\n",
      "Building wheels for collected packages: blinker, watchdog, validators, pathtools\n",
      "  Building wheel for blinker (setup.py): started\n",
      "  Building wheel for blinker (setup.py): finished with status 'done'\n",
      "  Stored in directory: C:\\Users\\Kevin\\AppData\\Local\\pip\\Cache\\wheels\\92\\a0\\00\\8690a57883956a301d91cf4ec999cc0b258b01e3f548f86e89\n",
      "  Building wheel for watchdog (setup.py): started\n",
      "  Building wheel for watchdog (setup.py): finished with status 'done'\n",
      "  Stored in directory: C:\\Users\\Kevin\\AppData\\Local\\pip\\Cache\\wheels\\61\\1d\\d0\\04cfe495619be2095eb8d89a31c42adb4e42b76495bc8f784c\n",
      "  Building wheel for validators (setup.py): started\n",
      "  Building wheel for validators (setup.py): finished with status 'done'\n",
      "  Stored in directory: C:\\Users\\Kevin\\AppData\\Local\\pip\\Cache\\wheels\\a1\\fb\\78\\272466691f4117974f8d5811e4060fc61e1179a1c00db6f9bb\n",
      "  Building wheel for pathtools (setup.py): started\n",
      "  Building wheel for pathtools (setup.py): finished with status 'done'\n",
      "  Stored in directory: C:\\Users\\Kevin\\AppData\\Local\\pip\\Cache\\wheels\\0b\\04\\79\\c3b0c3a0266a3cb4376da31e5bfe8bba0c489246968a68e843\n",
      "Successfully built blinker watchdog validators pathtools\n",
      "Installing collected packages: astor, jmespath, botocore, enum-compat, blinker, s3transfer, boto3, argh, pathtools, watchdog, protobuf, pillow, tornado, altair, toml, validators, tzlocal, base58, streamlit\n",
      "  Found existing installation: Pillow 6.1.0\n",
      "    Uninstalling Pillow-6.1.0:\n",
      "      Successfully uninstalled Pillow-6.1.0\n"
     ]
    },
    {
     "name": "stderr",
     "output_type": "stream",
     "text": [
      "ERROR: Could not install packages due to an EnvironmentError: [WinError 5] 存取被拒。: 'c:\\\\users\\\\kevin\\\\anaconda3\\\\lib\\\\site-packages\\\\~il\\\\_imaging.cp37-win_amd64.pyd'\n",
      "Consider using the `--user` option or check the permissions.\n",
      "\n"
     ]
    }
   ],
   "source": [
    "## Streamlit\n",
    "\n",
    "!pip install streamlit"
   ]
  },
  {
   "cell_type": "code",
   "execution_count": 20,
   "metadata": {},
   "outputs": [
    {
     "name": "stdout",
     "output_type": "stream",
     "text": [
      "Writing web01.py\n"
     ]
    }
   ],
   "source": [
    "%%writefile web01.py\n",
    "import pandas as pd\n",
    "\n",
    "df=pd.DataFrame({'A':[33,99,88],\n",
    "                'B':[94,87,1000]})\n",
    "df"
   ]
  },
  {
   "cell_type": "code",
   "execution_count": 19,
   "metadata": {},
   "outputs": [
    {
     "data": {
      "text/plain": [
       "'C:\\\\Users\\\\Kevin\\\\Desktop\\\\python\\\\eggs'"
      ]
     },
     "execution_count": 19,
     "metadata": {},
     "output_type": "execute_result"
    }
   ],
   "source": [
    "%pwd  #看路徑"
   ]
  },
  {
   "cell_type": "code",
   "execution_count": 21,
   "metadata": {},
   "outputs": [
    {
     "name": "stdout",
     "output_type": "stream",
     "text": [
      " 磁碟區 C 中的磁碟是 Windows\n",
      " 磁碟區序號:  C4DE-4F44\n",
      "\n",
      " C:\\Users\\Kevin\\Desktop\\python\\eggs 的目錄\n",
      "\n",
      "2019/12/18  上午 10:58    <DIR>          .\n",
      "2019/12/18  上午 10:58    <DIR>          ..\n",
      "2019/12/18  上午 10:44               297 ham.py\n",
      "2019/12/18  上午 09:55               106 lucky.py\n",
      "2019/12/18  上午 10:04                 0 Untitled-1.txt\n",
      "2019/12/18  上午 10:58                97 web01.py\n",
      "               4 個檔案             500 位元組\n",
      "               2 個目錄  183,628,754,944 位元組可用\n"
     ]
    }
   ],
   "source": [
    "%ls\n"
   ]
  },
  {
   "cell_type": "code",
   "execution_count": 22,
   "metadata": {},
   "outputs": [
    {
     "name": "stderr",
     "output_type": "stream",
     "text": [
      "'streamlit' 不是內部或外部命令、可執行的程式或批次檔。\n"
     ]
    }
   ],
   "source": [
    "!streamlit run web01.py"
   ]
  },
  {
   "cell_type": "code",
   "execution_count": null,
   "metadata": {},
   "outputs": [],
   "source": []
  }
 ],
 "metadata": {
  "kernelspec": {
   "display_name": "Python 3",
   "language": "python",
   "name": "python3"
  },
  "language_info": {
   "codemirror_mode": {
    "name": "ipython",
    "version": 3
   },
   "file_extension": ".py",
   "mimetype": "text/x-python",
   "name": "python",
   "nbconvert_exporter": "python",
   "pygments_lexer": "ipython3",
   "version": "3.7.3"
  }
 },
 "nbformat": 4,
 "nbformat_minor": 2
}
