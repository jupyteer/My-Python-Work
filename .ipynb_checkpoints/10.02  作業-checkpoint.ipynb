{
 "cells": [
  {
   "cell_type": "code",
   "execution_count": 1,
   "metadata": {},
   "outputs": [],
   "source": [
    "%matplotlib inline\n",
    "\n",
    "import numpy as np\n",
    "import matplotlib.pyplot as plt\n",
    "import pandas as pd"
   ]
  },
  {
   "cell_type": "code",
   "execution_count": 2,
   "metadata": {},
   "outputs": [],
   "source": [
    "from numpy.random import randint"
   ]
  },
  {
   "cell_type": "code",
   "execution_count": 7,
   "metadata": {},
   "outputs": [],
   "source": [
    "words='''\n",
    "麥當勞\n",
    "摩斯\n",
    "私房麵\n",
    "餐研社\n",
    "自助餐\n",
    "左撇子\n",
    "金鰭\n",
    "敏忠\n",
    "米塔\n",
    "就是棒\n",
    "八角\n",
    "學生餐\n",
    "多果\n",
    "里克\n",
    "加賀\n",
    "八方\n",
    "蘭亭\n",
    "樂山\n",
    "甘泉\n",
    "吃自己\n",
    "凡提斯\n",
    "便利店'''"
   ]
  },
  {
   "cell_type": "code",
   "execution_count": 4,
   "metadata": {},
   "outputs": [],
   "source": [
    "from numpy.random import choice"
   ]
  },
  {
   "cell_type": "code",
   "execution_count": 8,
   "metadata": {},
   "outputs": [
    {
     "data": {
      "text/plain": [
       "['',\n",
       " '麥當勞',\n",
       " '摩斯',\n",
       " '私房麵',\n",
       " '餐研社',\n",
       " '自助餐',\n",
       " '左撇子',\n",
       " '金鰭',\n",
       " '敏忠',\n",
       " '米塔',\n",
       " '就是棒',\n",
       " '八角',\n",
       " '學生餐',\n",
       " '多果',\n",
       " '里克',\n",
       " '加賀',\n",
       " '八方',\n",
       " '蘭亭',\n",
       " '樂山',\n",
       " '甘泉',\n",
       " '吃自己',\n",
       " '凡提斯',\n",
       " '便利店']"
      ]
     },
     "execution_count": 8,
     "metadata": {},
     "output_type": "execute_result"
    }
   ],
   "source": [
    "words.split(\"\\n\")"
   ]
  },
  {
   "cell_type": "code",
   "execution_count": 9,
   "metadata": {},
   "outputs": [],
   "source": [
    "phrase = words.split(\"\\n\")"
   ]
  },
  {
   "cell_type": "code",
   "execution_count": 19,
   "metadata": {},
   "outputs": [
    {
     "name": "stdout",
     "output_type": "stream",
     "text": [
      "私房麵 敏忠\n",
      "凡提斯 餐研社\n",
      " 便利店\n",
      "私房麵 吃自己\n"
     ]
    }
   ],
   "source": [
    "n = randint(3,5) \n",
    "\n",
    "for i in range(n):\n",
    "    k = randint(2,3) \n",
    "    egg = choice(phrase,k)\n",
    "    ham = \" \".join(egg)\n",
    "    print(ham)"
   ]
  },
  {
   "cell_type": "code",
   "execution_count": null,
   "metadata": {},
   "outputs": [],
   "source": []
  }
 ],
 "metadata": {
  "kernelspec": {
   "display_name": "Python 3",
   "language": "python",
   "name": "python3"
  },
  "language_info": {
   "codemirror_mode": {
    "name": "ipython",
    "version": 3
   },
   "file_extension": ".py",
   "mimetype": "text/x-python",
   "name": "python",
   "nbconvert_exporter": "python",
   "pygments_lexer": "ipython3",
   "version": "3.7.3"
  }
 },
 "nbformat": 4,
 "nbformat_minor": 2
}
