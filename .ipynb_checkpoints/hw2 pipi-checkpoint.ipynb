{
 "cells": [
  {
   "cell_type": "code",
   "execution_count": null,
   "metadata": {},
   "outputs": [
    {
     "name": "stdout",
     "output_type": "stream",
     "text": [
      "請輸入想要轉乘的捷運線\n",
      "(・∀・)我想要轉文湖線\n",
      "漂亮的小姊姊:要先轉其他線才能轉乘唷\n",
      "(・∀・)那紅線哩\n",
      "漂亮的小姊姊:可以至民權西路站或東門站轉乘\n",
      "(・∀・)藍線呢\n",
      "漂亮的小姊姊:可以至忠孝新生站轉乘\n",
      "(・∀・)小姊姊妳好漂亮\n",
      "請輸入想要前往的捷運線\n",
      "(・∀・)綠線\n",
      "漂亮的小姊姊:可以至松江南京站或古亭站轉乘\n",
      "(・∀・)謝謝小姊姊 bye\n",
      "謝謝您的使用\n"
     ]
    }
   ],
   "source": [
    "msg = \"從中和新蘆線轉乘其他捷運線\"\n",
    "print(\"請輸入想要轉乘的捷運線\")\n",
    "while (msg!=\"bye\"):\n",
    "    msg = input(\"(・∀・)\")\n",
    "    if\"紅線\"in msg:\n",
    "        print(\"漂亮的小姊姊:可以至民權西路站或東門站轉乘\")\n",
    "    elif\"綠線\"in msg:\n",
    "        print(\"漂亮的小姊姊:可以至松江南京站或古亭站轉乘\")\n",
    "    elif\"藍線\"in msg:\n",
    "        print(\"漂亮的小姊姊:可以至忠孝新生站轉乘\")\n",
    "    elif\"文湖線\"in msg:\n",
    "        print(\"漂亮的小姊姊:要先轉其他線才能轉乘唷\")\n",
    "    elif\"bye\"in msg:\n",
    "        print(\"謝謝您的使用\")\n",
    "    else:\n",
    "        print(\"請輸入想要前往的捷運線\")"
   ]
  },
  {
   "cell_type": "code",
   "execution_count": null,
   "metadata": {},
   "outputs": [],
   "source": []
  }
 ],
 "metadata": {
  "kernelspec": {
   "display_name": "Python 3",
   "language": "python",
   "name": "python3"
  },
  "language_info": {
   "codemirror_mode": {
    "name": "ipython",
    "version": 3
   },
   "file_extension": ".py",
   "mimetype": "text/x-python",
   "name": "python",
   "nbconvert_exporter": "python",
   "pygments_lexer": "ipython3",
   "version": "3.7.3"
  }
 },
 "nbformat": 4,
 "nbformat_minor": 2
}
