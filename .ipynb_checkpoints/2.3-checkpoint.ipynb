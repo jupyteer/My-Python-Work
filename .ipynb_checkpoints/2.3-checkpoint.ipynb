{
 "cells": [
  {
   "cell_type": "code",
   "execution_count": 1,
   "metadata": {},
   "outputs": [
    {
     "name": "stdout",
     "output_type": "stream",
     "text": [
      "請輸入成績:87\n"
     ]
    }
   ],
   "source": [
    "g = input(\"請輸入成績:\")"
   ]
  },
  {
   "cell_type": "code",
   "execution_count": 3,
   "metadata": {},
   "outputs": [],
   "source": [
    "g = float(g)"
   ]
  },
  {
   "cell_type": "code",
   "execution_count": 10,
   "metadata": {},
   "outputs": [
    {
     "name": "stdout",
     "output_type": "stream",
     "text": [
      "加油\n"
     ]
    }
   ],
   "source": [
    "if g<60:\n",
    "    print(\"廢物\")\n",
    "elif g>60:\n",
    "    print(\"加油\")\n",
    "elif 70<g<90:\n",
    "    print(\"還行\")\n",
    "else:\n",
    "    print(\"excellent\")"
   ]
  },
  {
   "cell_type": "code",
   "execution_count": 11,
   "metadata": {},
   "outputs": [
    {
     "name": "stdout",
     "output_type": "stream",
     "text": [
      "(｡･ω･｡)QQ\n",
      "拍拍\n"
     ]
    }
   ],
   "source": [
    "msg = input(\"(｡･ω･｡)\")\n",
    "if(\"失敗\" in msg):\n",
    "    print(\"加油\")\n",
    "else:\n",
    "    print(\"拍拍\")"
   ]
  },
  {
   "cell_type": "markdown",
   "metadata": {},
   "source": [
    "## while迴圈"
   ]
  },
  {
   "cell_type": "code",
   "execution_count": 12,
   "metadata": {},
   "outputs": [
    {
     "name": "stdout",
     "output_type": "stream",
     "text": [
      "0\n",
      "1\n",
      "2\n",
      "3\n",
      "4\n",
      "5\n",
      "6\n",
      "7\n",
      "8\n",
      "9\n"
     ]
    }
   ],
   "source": [
    "s = 0\n",
    "while s<10:\n",
    "    print(s)\n",
    "    s=s+1"
   ]
  },
  {
   "cell_type": "code",
   "execution_count": null,
   "metadata": {},
   "outputs": [
    {
     "name": "stdout",
     "output_type": "stream",
     "text": [
      "(・∀・) 嘿嘿\n",
      "拍拍\n",
      "(・∀・) ??\n",
      "拍拍\n"
     ]
    }
   ],
   "source": [
    "msg=\"嘿嘿\"\n",
    "\n",
    "while (msg!=\"bye\"):\n",
    "    msg = input(\"(・∀・) \")\n",
    "    print(\"拍拍\")"
   ]
  },
  {
   "cell_type": "code",
   "execution_count": null,
   "metadata": {},
   "outputs": [],
   "source": []
  }
 ],
 "metadata": {
  "kernelspec": {
   "display_name": "Python 3",
   "language": "python",
   "name": "python3"
  },
  "language_info": {
   "codemirror_mode": {
    "name": "ipython",
    "version": 3
   },
   "file_extension": ".py",
   "mimetype": "text/x-python",
   "name": "python",
   "nbconvert_exporter": "python",
   "pygments_lexer": "ipython3",
   "version": "3.7.3"
  }
 },
 "nbformat": 4,
 "nbformat_minor": 2
}
