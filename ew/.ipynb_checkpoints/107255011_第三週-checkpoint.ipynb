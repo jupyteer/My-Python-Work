{
 "cells": [
  {
   "cell_type": "code",
   "execution_count": 1,
   "metadata": {},
   "outputs": [],
   "source": [
    "%matplotlib inline\n",
    "\n",
    "import numpy as np\n",
    "import matplotlib.pyplot as plt\n",
    "import pandas as pd"
   ]
  },
  {
   "cell_type": "markdown",
   "metadata": {},
   "source": [
    "# 第一題：計算班級平均加權平均"
   ]
  },
  {
   "cell_type": "code",
   "execution_count": 2,
   "metadata": {},
   "outputs": [],
   "source": [
    "g=np.array(np.random.randint(0,101,size=(3,10,5)))"
   ]
  },
  {
   "cell_type": "code",
   "execution_count": 3,
   "metadata": {},
   "outputs": [
    {
     "data": {
      "text/plain": [
       "array([[[ 47,  30,  76,  45,  95],\n",
       "        [ 26,  32,  77,  39,  29],\n",
       "        [ 17,  10,  69,  85,  96],\n",
       "        [ 86,   3,  10,  22,  11],\n",
       "        [  4,   8,   9, 100,   7],\n",
       "        [ 98,  57,  61,  47,  26],\n",
       "        [ 58,   1,  34,  10,  29],\n",
       "        [ 43,  31,  50,  33,  58],\n",
       "        [ 40,  87,  70,  98,   0],\n",
       "        [ 20,  61,  20,  88,  31]],\n",
       "\n",
       "       [[ 30,  93,  61,  36,  10],\n",
       "        [ 42,  32,  36,  33,  19],\n",
       "        [ 21,  90,  51,   6,  95],\n",
       "        [ 24,  37,  81,  67,  16],\n",
       "        [  2,  65,  62,  45,   3],\n",
       "        [  1,  31,  31,  91,  21],\n",
       "        [ 94,  83,  35,  63,  57],\n",
       "        [ 72,  65,   3,  59,  31],\n",
       "        [ 80,  62,   4,  99,  29],\n",
       "        [ 27,  90,  98,  98,  45]],\n",
       "\n",
       "       [[ 28,  87,  13,  75,  11],\n",
       "        [ 58,  10,  92,  23,  94],\n",
       "        [ 42,   3,  60,  35,  11],\n",
       "        [ 90,  96,  17,  30,  85],\n",
       "        [ 97,  14,  93,  60,  54],\n",
       "        [ 51,  10,  16,  66,  12],\n",
       "        [ 16,  21,  74,  35,  20],\n",
       "        [ 14,  46,  88,  51,  11],\n",
       "        [ 12,   8,  66,  77,  68],\n",
       "        [ 37,  63,  72,  10,  62]]])"
      ]
     },
     "execution_count": 3,
     "metadata": {},
     "output_type": "execute_result"
    }
   ],
   "source": [
    "g"
   ]
  },
  {
   "cell_type": "code",
   "execution_count": 4,
   "metadata": {},
   "outputs": [],
   "source": [
    "weights=[0.25,0.25,0.25,0.15,0.10]"
   ]
  },
  {
   "cell_type": "code",
   "execution_count": 5,
   "metadata": {},
   "outputs": [
    {
     "data": {
      "text/plain": [
       "array([[[11.75,  7.5 , 19.  ,  6.75,  9.5 ],\n",
       "        [ 6.5 ,  8.  , 19.25,  5.85,  2.9 ],\n",
       "        [ 4.25,  2.5 , 17.25, 12.75,  9.6 ],\n",
       "        [21.5 ,  0.75,  2.5 ,  3.3 ,  1.1 ],\n",
       "        [ 1.  ,  2.  ,  2.25, 15.  ,  0.7 ],\n",
       "        [24.5 , 14.25, 15.25,  7.05,  2.6 ],\n",
       "        [14.5 ,  0.25,  8.5 ,  1.5 ,  2.9 ],\n",
       "        [10.75,  7.75, 12.5 ,  4.95,  5.8 ],\n",
       "        [10.  , 21.75, 17.5 , 14.7 ,  0.  ],\n",
       "        [ 5.  , 15.25,  5.  , 13.2 ,  3.1 ]],\n",
       "\n",
       "       [[ 7.5 , 23.25, 15.25,  5.4 ,  1.  ],\n",
       "        [10.5 ,  8.  ,  9.  ,  4.95,  1.9 ],\n",
       "        [ 5.25, 22.5 , 12.75,  0.9 ,  9.5 ],\n",
       "        [ 6.  ,  9.25, 20.25, 10.05,  1.6 ],\n",
       "        [ 0.5 , 16.25, 15.5 ,  6.75,  0.3 ],\n",
       "        [ 0.25,  7.75,  7.75, 13.65,  2.1 ],\n",
       "        [23.5 , 20.75,  8.75,  9.45,  5.7 ],\n",
       "        [18.  , 16.25,  0.75,  8.85,  3.1 ],\n",
       "        [20.  , 15.5 ,  1.  , 14.85,  2.9 ],\n",
       "        [ 6.75, 22.5 , 24.5 , 14.7 ,  4.5 ]],\n",
       "\n",
       "       [[ 7.  , 21.75,  3.25, 11.25,  1.1 ],\n",
       "        [14.5 ,  2.5 , 23.  ,  3.45,  9.4 ],\n",
       "        [10.5 ,  0.75, 15.  ,  5.25,  1.1 ],\n",
       "        [22.5 , 24.  ,  4.25,  4.5 ,  8.5 ],\n",
       "        [24.25,  3.5 , 23.25,  9.  ,  5.4 ],\n",
       "        [12.75,  2.5 ,  4.  ,  9.9 ,  1.2 ],\n",
       "        [ 4.  ,  5.25, 18.5 ,  5.25,  2.  ],\n",
       "        [ 3.5 , 11.5 , 22.  ,  7.65,  1.1 ],\n",
       "        [ 3.  ,  2.  , 16.5 , 11.55,  6.8 ],\n",
       "        [ 9.25, 15.75, 18.  ,  1.5 ,  6.2 ]]])"
      ]
     },
     "execution_count": 5,
     "metadata": {},
     "output_type": "execute_result"
    }
   ],
   "source": [
    "g*weights"
   ]
  },
  {
   "cell_type": "code",
   "execution_count": 6,
   "metadata": {},
   "outputs": [
    {
     "name": "stdout",
     "output_type": "stream",
     "text": [
      "[[54.5  42.5  46.35 29.15 20.95 63.65 27.65 41.75 63.95 41.55]\n",
      " [52.4  34.35 50.9  47.15 39.3  31.5  68.15 46.95 54.25 72.95]\n",
      " [44.35 52.85 32.6  63.75 65.4  30.35 35.   45.75 39.85 50.7 ]]\n"
     ]
    }
   ],
   "source": [
    "F=np.dot(g,weights)\n",
    "print(F)"
   ]
  },
  {
   "cell_type": "markdown",
   "metadata": {},
   "source": [
    "# 第二題：向日葵班"
   ]
  },
  {
   "cell_type": "code",
   "execution_count": 9,
   "metadata": {},
   "outputs": [],
   "source": [
    "sclass =np.random.randint(1,101,40)"
   ]
  },
  {
   "cell_type": "code",
   "execution_count": 10,
   "metadata": {},
   "outputs": [
    {
     "name": "stdout",
     "output_type": "stream",
     "text": [
      "highest 99\n"
     ]
    }
   ],
   "source": [
    "print('highest',max(sclass))"
   ]
  },
  {
   "cell_type": "code",
   "execution_count": 11,
   "metadata": {},
   "outputs": [
    {
     "name": "stdout",
     "output_type": "stream",
     "text": [
      "lowest 3\n"
     ]
    }
   ],
   "source": [
    "print('lowest',min(sclass))"
   ]
  },
  {
   "cell_type": "code",
   "execution_count": 12,
   "metadata": {},
   "outputs": [
    {
     "name": "stdout",
     "output_type": "stream",
     "text": [
      "pass 18\n"
     ]
    }
   ],
   "source": [
    "print('pass',np.sum(sclass>=60))"
   ]
  },
  {
   "cell_type": "code",
   "execution_count": 13,
   "metadata": {},
   "outputs": [
    {
     "name": "stdout",
     "output_type": "stream",
     "text": [
      "average 53.875\n"
     ]
    }
   ],
   "source": [
    "print('average',np.mean(sclass))"
   ]
  },
  {
   "cell_type": "code",
   "execution_count": 14,
   "metadata": {},
   "outputs": [
    {
     "name": "stdout",
     "output_type": "stream",
     "text": [
      "std 30.255732927827083\n"
     ]
    }
   ],
   "source": [
    "print('std',np.std(sclass))"
   ]
  },
  {
   "cell_type": "code",
   "execution_count": 16,
   "metadata": {},
   "outputs": [
    {
     "data": {
      "text/plain": [
       "Text(0, 0.5, 'number')"
      ]
     },
     "execution_count": 16,
     "metadata": {},
     "output_type": "execute_result"
    },
    {
     "data": {
      "image/png": "[encoded data removed]",
      "text/plain": [
       "<Figure size 432x288 with 1 Axes>"
      ]
     },
     "metadata": {
      "needs_background": "light"
     },
     "output_type": "display_data"
    }
   ],
   "source": [
    "plt.xticks(np.arange(10,110,10))\n",
    "plt.hist(sclass)\n",
    "\n",
    "plt.xlabel('score')\n",
    "plt.ylabel('number')"
   ]
  },
  {
   "cell_type": "code",
   "execution_count": null,
   "metadata": {},
   "outputs": [],
   "source": []
  }
 ],
 "metadata": {
  "kernelspec": {
   "display_name": "Python 3",
   "language": "python",
   "name": "python3"
  },
  "language_info": {
   "codemirror_mode": {
    "name": "ipython",
    "version": 3
   },
   "file_extension": ".py",
   "mimetype": "text/x-python",
   "name": "python",
   "nbconvert_exporter": "python",
   "pygments_lexer": "ipython3",
   "version": "3.7.3"
  }
 },
 "nbformat": 4,
 "nbformat_minor": 2
}
