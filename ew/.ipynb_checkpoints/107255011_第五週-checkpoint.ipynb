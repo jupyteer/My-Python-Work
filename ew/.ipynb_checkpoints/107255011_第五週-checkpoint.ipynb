{
 "cells": [
  {
   "cell_type": "code",
   "execution_count": 1,
   "metadata": {},
   "outputs": [],
   "source": [
    "%matplotlib inline\n",
    "\n",
    "import numpy as np\n",
    "import matplotlib.pyplot as plt\n",
    "import pandas as pd"
   ]
  },
  {
   "cell_type": "markdown",
   "metadata": {},
   "source": [
    "# 第一題:算閏年"
   ]
  },
  {
   "cell_type": "code",
   "execution_count": 3,
   "metadata": {},
   "outputs": [
    {
     "name": "stdout",
     "output_type": "stream",
     "text": [
      "請輸入西元年：2400\n",
      "為閏年\n"
     ]
    }
   ],
   "source": [
    "def year229(N):\n",
    "    if N%4==0 and N%100!=0:\n",
    "        print('為閏年')\n",
    "    elif N%400==0:\n",
    "        print('為閏年')\n",
    "    else:\n",
    "        print('非閏年')\n",
    "N=int(input('請輸入西元年：'))\n",
    "year229(N)"
   ]
  },
  {
   "cell_type": "markdown",
   "metadata": {},
   "source": [
    "# 第二題:請實作五乘五矩陣的矩陣加法函式"
   ]
  },
  {
   "cell_type": "code",
   "execution_count": 31,
   "metadata": {},
   "outputs": [],
   "source": [
    "def matrix_plus(m1,m2):\n",
    "    m1=np.random.randint(5,size=(5,5))\n",
    "    m2=np.random.randint(5,size=(5,5))\n",
    "    return m1+m2"
   ]
  },
  {
   "cell_type": "code",
   "execution_count": 37,
   "metadata": {},
   "outputs": [
    {
     "name": "stdout",
     "output_type": "stream",
     "text": [
      "[[2 2 3 2 4]\n",
      " [7 7 4 0 6]\n",
      " [5 2 1 4 5]\n",
      " [5 5 3 6 6]\n",
      " [3 6 7 3 3]]\n"
     ]
    }
   ],
   "source": [
    "print(matrix_plus(m1,m2))"
   ]
  },
  {
   "cell_type": "code",
   "execution_count": null,
   "metadata": {},
   "outputs": [],
   "source": []
  }
 ],
 "metadata": {
  "kernelspec": {
   "display_name": "Python 3",
   "language": "python",
   "name": "python3"
  },
  "language_info": {
   "codemirror_mode": {
    "name": "ipython",
    "version": 3
   },
   "file_extension": ".py",
   "mimetype": "text/x-python",
   "name": "python",
   "nbconvert_exporter": "python",
   "pygments_lexer": "ipython3",
   "version": "3.7.3"
  }
 },
 "nbformat": 4,
 "nbformat_minor": 2
}
