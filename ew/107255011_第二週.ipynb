{
 "cells": [
  {
   "cell_type": "markdown",
   "metadata": {},
   "source": [
    "# 第一題：猜數字大小"
   ]
  },
  {
   "cell_type": "code",
   "execution_count": 1,
   "metadata": {},
   "outputs": [],
   "source": [
    "%matplotlib inline\n",
    "\n",
    "import numpy as np\n",
    "import matplotlib.pyplot as plt\n",
    "import pandas as pd"
   ]
  },
  {
   "cell_type": "code",
   "execution_count": 2,
   "metadata": {},
   "outputs": [
    {
     "name": "stdout",
     "output_type": "stream",
     "text": [
      "你猜哪個數字?33\n",
      "太大了\n",
      "你猜哪個數字?17\n",
      "太大了\n",
      "你猜哪個數字?11\n",
      "太大了\n",
      "你猜哪個數字?7\n",
      "太大了\n",
      "你猜哪個數字?1\n",
      "太小了\n",
      "你猜哪個數字?5\n",
      "恭喜\n"
     ]
    }
   ],
   "source": [
    "from random import randint\n",
    "n=randint(1,100)\n",
    "\n",
    "cont= True\n",
    "while cont:\n",
    "    guess = int(input('你猜哪個數字?'))\n",
    "    if guess > n:\n",
    "        print('太大了')\n",
    "    elif guess < n:\n",
    "        print('太小了')\n",
    "    else:\n",
    "        print('恭喜')\n",
    "        cont = False"
   ]
  },
  {
   "cell_type": "markdown",
   "metadata": {},
   "source": [
    "# 第三題：寫個函數讓字串倒過來排"
   ]
  },
  {
   "cell_type": "code",
   "execution_count": 3,
   "metadata": {},
   "outputs": [],
   "source": [
    "st='hello'"
   ]
  },
  {
   "cell_type": "code",
   "execution_count": 4,
   "metadata": {},
   "outputs": [
    {
     "name": "stdout",
     "output_type": "stream",
     "text": [
      "olleh\n"
     ]
    }
   ],
   "source": [
    "def reverse_i(st):\n",
    "    r = ''\n",
    "    for c in st:\n",
    "            r = c + r\n",
    "    return r\n",
    "print(reverse_i(st))"
   ]
  },
  {
   "cell_type": "code",
   "execution_count": 5,
   "metadata": {},
   "outputs": [],
   "source": [
    "# 另一種方式"
   ]
  },
  {
   "cell_type": "code",
   "execution_count": 6,
   "metadata": {},
   "outputs": [],
   "source": [
    "st1='hello'"
   ]
  },
  {
   "cell_type": "code",
   "execution_count": 7,
   "metadata": {},
   "outputs": [
    {
     "name": "stdout",
     "output_type": "stream",
     "text": [
      "olleh\n"
     ]
    }
   ],
   "source": [
    "B=list(st1)\n",
    "B.reverse()\n",
    "print(''.join(B))"
   ]
  },
  {
   "cell_type": "markdown",
   "metadata": {},
   "source": [
    "# 挑戰題"
   ]
  },
  {
   "cell_type": "code",
   "execution_count": 8,
   "metadata": {},
   "outputs": [
    {
     "name": "stdout",
     "output_type": "stream",
     "text": [
      "請輸入想要轉乘的捷運線\n",
      "(・∀・)綠線\n",
      "漂亮的小姊姊:可以至松江南京站或古亭站轉乘\n",
      "(・∀・)bye\n",
      "謝謝您的使用\n"
     ]
    }
   ],
   "source": [
    "msg = \"從中和新蘆線轉乘其他捷運線\"\n",
    "print(\"請輸入想要轉乘的捷運線\")\n",
    "while (msg!=\"bye\"):\n",
    "    msg = input(\"(・∀・)\")\n",
    "    if\"紅線\"in msg:\n",
    "        print(\"漂亮的小姊姊:可以至民權西路站或東門站轉乘\")\n",
    "    elif\"綠線\"in msg:\n",
    "        print(\"漂亮的小姊姊:可以至松江南京站或古亭站轉乘\")\n",
    "    elif\"藍線\"in msg:\n",
    "        print(\"漂亮的小姊姊:可以至忠孝新生站轉乘\")\n",
    "    elif\"文湖線\"in msg:\n",
    "        print(\"漂亮的小姊姊:要先轉其他線才能轉乘唷\")\n",
    "    elif\"bye\"in msg:\n",
    "        print(\"謝謝您的使用\")\n",
    "    else:\n",
    "        print(\"請輸入想要前往的捷運線\")"
   ]
  },
  {
   "cell_type": "code",
   "execution_count": null,
   "metadata": {},
   "outputs": [],
   "source": []
  }
 ],
 "metadata": {
  "kernelspec": {
   "display_name": "Python 3",
   "language": "python",
   "name": "python3"
  },
  "language_info": {
   "codemirror_mode": {
    "name": "ipython",
    "version": 3
   },
   "file_extension": ".py",
   "mimetype": "text/x-python",
   "name": "python",
   "nbconvert_exporter": "python",
   "pygments_lexer": "ipython3",
   "version": "3.7.3"
  }
 },
 "nbformat": 4,
 "nbformat_minor": 2
}
