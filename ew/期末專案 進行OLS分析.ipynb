{
 "cells": [
  {
   "cell_type": "code",
   "execution_count": 1,
   "metadata": {},
   "outputs": [],
   "source": [
    "import numpy as np\n",
    "import matplotlib.pyplot as plt\n",
    "import pandas as pd\n",
    "\n",
    "import statsmodels.api as sm\n",
    "#引入統計軟體的套件"
   ]
  },
  {
   "cell_type": "markdown",
   "metadata": {},
   "source": [
    "# 讀入資料(關於各國的各項橫斷面資料)"
   ]
  },
  {
   "cell_type": "code",
   "execution_count": 2,
   "metadata": {},
   "outputs": [],
   "source": [
    "df=pd.read_csv('Countrydata.csv')"
   ]
  },
  {
   "cell_type": "code",
   "execution_count": 3,
   "metadata": {},
   "outputs": [
    {
     "data": {
      "text/html": [
       "<div>\n",
       "<style scoped>\n",
       "    .dataframe tbody tr th:only-of-type {\n",
       "        vertical-align: middle;\n",
       "    }\n",
       "\n",
       "    .dataframe tbody tr th {\n",
       "        vertical-align: top;\n",
       "    }\n",
       "\n",
       "    .dataframe thead th {\n",
       "        text-align: right;\n",
       "    }\n",
       "</style>\n",
       "<table border=\"1\" class=\"dataframe\">\n",
       "  <thead>\n",
       "    <tr style=\"text-align: right;\">\n",
       "      <th></th>\n",
       "      <th>Area (KM)</th>\n",
       "      <th>G-20</th>\n",
       "      <th>Petroleum</th>\n",
       "      <th>Pop (1000's)</th>\n",
       "      <th>65 &amp; over</th>\n",
       "      <th>Life Expectancy</th>\n",
       "      <th>Literacy %</th>\n",
       "      <th>GDP/cap</th>\n",
       "      <th>Labor force</th>\n",
       "      <th>Unemployment</th>\n",
       "      <th>Exports</th>\n",
       "      <th>Imports</th>\n",
       "      <th>Cell phones</th>\n",
       "    </tr>\n",
       "  </thead>\n",
       "  <tbody>\n",
       "    <tr>\n",
       "      <th>0</th>\n",
       "      <td>2381740.0</td>\n",
       "      <td>0</td>\n",
       "      <td>2</td>\n",
       "      <td>31736</td>\n",
       "      <td>4.07</td>\n",
       "      <td>69.95</td>\n",
       "      <td>61.6</td>\n",
       "      <td>5.5</td>\n",
       "      <td>9.10</td>\n",
       "      <td>30.0</td>\n",
       "      <td>19.6</td>\n",
       "      <td>9.2</td>\n",
       "      <td>0.034</td>\n",
       "    </tr>\n",
       "    <tr>\n",
       "      <th>1</th>\n",
       "      <td>2766890.0</td>\n",
       "      <td>1</td>\n",
       "      <td>1</td>\n",
       "      <td>37385</td>\n",
       "      <td>10.42</td>\n",
       "      <td>75.26</td>\n",
       "      <td>96.2</td>\n",
       "      <td>12.9</td>\n",
       "      <td>15.00</td>\n",
       "      <td>15.0</td>\n",
       "      <td>26.5</td>\n",
       "      <td>25.2</td>\n",
       "      <td>3.000</td>\n",
       "    </tr>\n",
       "    <tr>\n",
       "      <th>2</th>\n",
       "      <td>7686850.0</td>\n",
       "      <td>1</td>\n",
       "      <td>1</td>\n",
       "      <td>19357</td>\n",
       "      <td>12.50</td>\n",
       "      <td>79.87</td>\n",
       "      <td>100.0</td>\n",
       "      <td>23.2</td>\n",
       "      <td>9.50</td>\n",
       "      <td>6.4</td>\n",
       "      <td>69.0</td>\n",
       "      <td>77.0</td>\n",
       "      <td>6.400</td>\n",
       "    </tr>\n",
       "    <tr>\n",
       "      <th>3</th>\n",
       "      <td>83858.0</td>\n",
       "      <td>0</td>\n",
       "      <td>0</td>\n",
       "      <td>8150</td>\n",
       "      <td>15.38</td>\n",
       "      <td>77.84</td>\n",
       "      <td>98.0</td>\n",
       "      <td>25.0</td>\n",
       "      <td>3.70</td>\n",
       "      <td>5.4</td>\n",
       "      <td>63.2</td>\n",
       "      <td>65.6</td>\n",
       "      <td>4.500</td>\n",
       "    </tr>\n",
       "    <tr>\n",
       "      <th>4</th>\n",
       "      <td>30510.0</td>\n",
       "      <td>0</td>\n",
       "      <td>0</td>\n",
       "      <td>10259</td>\n",
       "      <td>16.95</td>\n",
       "      <td>77.96</td>\n",
       "      <td>98.0</td>\n",
       "      <td>25.3</td>\n",
       "      <td>4.34</td>\n",
       "      <td>8.4</td>\n",
       "      <td>181.4</td>\n",
       "      <td>166.0</td>\n",
       "      <td>1.000</td>\n",
       "    </tr>\n",
       "  </tbody>\n",
       "</table>\n",
       "</div>"
      ],
      "text/plain": [
       "   Area (KM)  G-20  Petroleum  Pop (1000's)  65 & over  Life Expectancy  \\\n",
       "0  2381740.0     0          2         31736       4.07            69.95   \n",
       "1  2766890.0     1          1         37385      10.42            75.26   \n",
       "2  7686850.0     1          1         19357      12.50            79.87   \n",
       "3    83858.0     0          0          8150      15.38            77.84   \n",
       "4    30510.0     0          0         10259      16.95            77.96   \n",
       "\n",
       "   Literacy %  GDP/cap  Labor force  Unemployment  Exports  Imports  \\\n",
       "0        61.6      5.5         9.10          30.0     19.6      9.2   \n",
       "1        96.2     12.9        15.00          15.0     26.5     25.2   \n",
       "2       100.0     23.2         9.50           6.4     69.0     77.0   \n",
       "3        98.0     25.0         3.70           5.4     63.2     65.6   \n",
       "4        98.0     25.3         4.34           8.4    181.4    166.0   \n",
       "\n",
       "   Cell phones  \n",
       "0        0.034  \n",
       "1        3.000  \n",
       "2        6.400  \n",
       "3        4.500  \n",
       "4        1.000  "
      ]
     },
     "execution_count": 3,
     "metadata": {},
     "output_type": "execute_result"
    }
   ],
   "source": [
    "df.head()"
   ]
  },
  {
   "cell_type": "code",
   "execution_count": 23,
   "metadata": {},
   "outputs": [
    {
     "data": {
      "text/plain": [
       "<matplotlib.collections.PathCollection at 0x21e04c507b8>"
      ]
     },
     "execution_count": 23,
     "metadata": {},
     "output_type": "execute_result"
    },
    {
     "data": {
      "image/png": "[encoded data removed]",
      "text/plain": [
       "<Figure size 432x288 with 1 Axes>"
      ]
     },
     "metadata": {
      "needs_background": "light"
     },
     "output_type": "display_data"
    }
   ],
   "source": [
    "a=df['Area (KM)']\n",
    "b=df['Life Expectancy']\n",
    "plt.scatter(a,b)  \n",
    "#似乎難以得知他們的關係"
   ]
  },
  {
   "cell_type": "code",
   "execution_count": 25,
   "metadata": {},
   "outputs": [
    {
     "data": {
      "text/plain": [
       "<matplotlib.collections.PathCollection at 0x21e04d1e240>"
      ]
     },
     "execution_count": 25,
     "metadata": {},
     "output_type": "execute_result"
    },
    {
     "data": {
      "image/png": "[encoded data removed]",
      "text/plain": [
       "<Figure size 432x288 with 1 Axes>"
      ]
     },
     "metadata": {
      "needs_background": "light"
     },
     "output_type": "display_data"
    }
   ],
   "source": [
    "a1=df['Literacy %']\n",
    "b=df['Life Expectancy']\n",
    "plt.scatter(a1,b)\n",
    "#可以推估他們的關係為正向"
   ]
  },
  {
   "cell_type": "code",
   "execution_count": 27,
   "metadata": {},
   "outputs": [
    {
     "data": {
      "text/plain": [
       "<matplotlib.collections.PathCollection at 0x21e04dce588>"
      ]
     },
     "execution_count": 27,
     "metadata": {},
     "output_type": "execute_result"
    },
    {
     "data": {
      "image/png": "[encoded data removed]",
      "text/plain": [
       "<Figure size 432x288 with 1 Axes>"
      ]
     },
     "metadata": {
      "needs_background": "light"
     },
     "output_type": "display_data"
    }
   ],
   "source": [
    "a2=df['GDP/cap']\n",
    "b=df['Life Expectancy']\n",
    "plt.scatter(a2,b)\n",
    "#可以推估他們的關係為正向"
   ]
  },
  {
   "cell_type": "code",
   "execution_count": 29,
   "metadata": {},
   "outputs": [
    {
     "data": {
      "text/plain": [
       "<matplotlib.collections.PathCollection at 0x21e04e8af60>"
      ]
     },
     "execution_count": 29,
     "metadata": {},
     "output_type": "execute_result"
    },
    {
     "data": {
      "image/png": "[encoded data removed]",
      "text/plain": [
       "<Figure size 432x288 with 1 Axes>"
      ]
     },
     "metadata": {
      "needs_background": "light"
     },
     "output_type": "display_data"
    }
   ],
   "source": [
    "a3=df['Labor force']\n",
    "b=df['Life Expectancy']\n",
    "plt.scatter(a3,b)\n",
    "#不清楚他們的關係"
   ]
  },
  {
   "cell_type": "code",
   "execution_count": 68,
   "metadata": {},
   "outputs": [
    {
     "data": {
      "text/plain": [
       "<matplotlib.collections.PathCollection at 0x21e04e0ae10>"
      ]
     },
     "execution_count": 68,
     "metadata": {},
     "output_type": "execute_result"
    },
    {
     "data": {
      "image/png": "[encoded data removed]",
      "text/plain": [
       "<Figure size 432x288 with 1 Axes>"
      ]
     },
     "metadata": {
      "needs_background": "light"
     },
     "output_type": "display_data"
    }
   ],
   "source": [
    "a7=df['Unemployment']\n",
    "b=df['Life Expectancy']\n",
    "plt.scatter(a7,b)\n",
    "#推估為負向關係"
   ]
  },
  {
   "cell_type": "code",
   "execution_count": 30,
   "metadata": {},
   "outputs": [
    {
     "data": {
      "text/plain": [
       "<matplotlib.collections.PathCollection at 0x21e04efc1d0>"
      ]
     },
     "execution_count": 30,
     "metadata": {},
     "output_type": "execute_result"
    },
    {
     "data": {
      "image/png": "[encoded data removed]",
      "text/plain": [
       "<Figure size 432x288 with 1 Axes>"
      ]
     },
     "metadata": {
      "needs_background": "light"
     },
     "output_type": "display_data"
    }
   ],
   "source": [
    "a4=df['Exports']\n",
    "b=df['Life Expectancy']\n",
    "plt.scatter(a4,b)\n",
    "#好像有一個遞減式增加的關係"
   ]
  },
  {
   "cell_type": "code",
   "execution_count": 32,
   "metadata": {},
   "outputs": [
    {
     "data": {
      "text/plain": [
       "<matplotlib.collections.PathCollection at 0x21e05fa7128>"
      ]
     },
     "execution_count": 32,
     "metadata": {},
     "output_type": "execute_result"
    },
    {
     "data": {
      "image/png": "[encoded data removed]",
      "text/plain": [
       "<Figure size 432x288 with 1 Axes>"
      ]
     },
     "metadata": {
      "needs_background": "light"
     },
     "output_type": "display_data"
    }
   ],
   "source": [
    "a5=df['Imports']\n",
    "b=df['Life Expectancy']\n",
    "plt.scatter(a5,b)\n",
    "#不清楚他們的關係"
   ]
  },
  {
   "cell_type": "code",
   "execution_count": 33,
   "metadata": {},
   "outputs": [
    {
     "data": {
      "text/plain": [
       "<matplotlib.collections.PathCollection at 0x21e05fffe10>"
      ]
     },
     "execution_count": 33,
     "metadata": {},
     "output_type": "execute_result"
    },
    {
     "data": {
      "image/png": "[encoded data removed]",
      "text/plain": [
       "<Figure size 432x288 with 1 Axes>"
      ]
     },
     "metadata": {
      "needs_background": "light"
     },
     "output_type": "display_data"
    }
   ],
   "source": [
    "a6=df['Cell phones']\n",
    "b=df['Life Expectancy']\n",
    "plt.scatter(a6,b)\n",
    "#不清楚他們的關係"
   ]
  },
  {
   "cell_type": "code",
   "execution_count": 92,
   "metadata": {},
   "outputs": [],
   "source": [
    "x = df[['G-20','Literacy %','GDP/cap','Unemployment','Exports','Imports','Cell phones']]\n",
    "y = df['Life Expectancy']\n",
    "#想要得知預期壽命 如何受被解釋變數影響"
   ]
  },
  {
   "cell_type": "markdown",
   "metadata": {},
   "source": [
    "# 使用OLS進行迴歸分析"
   ]
  },
  {
   "cell_type": "code",
   "execution_count": 93,
   "metadata": {},
   "outputs": [],
   "source": [
    "est = sm.OLS(y,x).fit() "
   ]
  },
  {
   "cell_type": "code",
   "execution_count": 94,
   "metadata": {},
   "outputs": [],
   "source": [
    "y_pred = est.predict(x)"
   ]
  },
  {
   "cell_type": "code",
   "execution_count": 95,
   "metadata": {},
   "outputs": [],
   "source": [
    "df['Life Expectancy_pred'] = y_pred #將預期壽命當作被解釋變數"
   ]
  },
  {
   "cell_type": "code",
   "execution_count": 96,
   "metadata": {},
   "outputs": [
    {
     "name": "stdout",
     "output_type": "stream",
     "text": [
      "                                 OLS Regression Results                                \n",
      "=======================================================================================\n",
      "Dep. Variable:        Life Expectancy   R-squared (uncentered):                   0.994\n",
      "Model:                            OLS   Adj. R-squared (uncentered):              0.993\n",
      "Method:                 Least Squares   F-statistic:                              809.9\n",
      "Date:                Tue, 31 Dec 2019   Prob (F-statistic):                    6.85e-36\n",
      "Time:                        17:59:43   Log-Likelihood:                         -130.03\n",
      "No. Observations:                  41   AIC:                                      274.1\n",
      "Df Residuals:                      34   BIC:                                      286.1\n",
      "Df Model:                           7                                                  \n",
      "Covariance Type:            nonrobust                                                  \n",
      "================================================================================\n",
      "                   coef    std err          t      P>|t|      [0.025      0.975]\n",
      "--------------------------------------------------------------------------------\n",
      "G-20            -4.9163      2.747     -1.790      0.082     -10.499       0.666\n",
      "Literacy %       0.7804      0.047     16.631      0.000       0.685       0.876\n",
      "GDP/cap          0.0077      0.191      0.040      0.968      -0.380       0.395\n",
      "Unemployment     0.2698      0.144      1.877      0.069      -0.022       0.562\n",
      "Exports          0.0108      0.021      0.504      0.617      -0.033       0.054\n",
      "Imports         -0.0076      0.016     -0.492      0.626      -0.039       0.024\n",
      "Cell phones      0.1045      0.091      1.151      0.258      -0.080       0.289\n",
      "==============================================================================\n",
      "Omnibus:                        6.298   Durbin-Watson:                   1.564\n",
      "Prob(Omnibus):                  0.043   Jarque-Bera (JB):                8.290\n",
      "Skew:                          -0.247   Prob(JB):                       0.0158\n",
      "Kurtosis:                       5.147   Cond. No.                         891.\n",
      "==============================================================================\n",
      "\n",
      "Warnings:\n",
      "[1] Standard Errors assume that the covariance matrix of the errors is correctly specified.\n"
     ]
    }
   ],
   "source": [
    "print(est.summary())          "
   ]
  },
  {
   "cell_type": "code",
   "execution_count": 97,
   "metadata": {},
   "outputs": [
    {
     "name": "stdout",
     "output_type": "stream",
     "text": [
      "G-20           -4.916281\n",
      "Literacy %      0.780365\n",
      "GDP/cap         0.007708\n",
      "Unemployment    0.269780\n",
      "Exports         0.010750\n",
      "Imports        -0.007635\n",
      "Cell phones     0.104520\n",
      "dtype: float64\n"
     ]
    }
   ],
   "source": [
    "print(est.params)"
   ]
  },
  {
   "cell_type": "markdown",
   "metadata": {},
   "source": [
    "# 結論\n",
    "一、 R-squared 非常的大，是因為他是uncentered，uncentered 表示他未減去y的平均值，然而我們所探討的y(預期壽命)平均值不可能為0，故R-squared會相當的大。\n",
    "\n",
    "二、從係數可以推知\n",
    "1. 當該國為G-20的會員國，其預期壽命會減少-4.916歲\n",
    "2. 當識字比率高一百分比，其預期壽命會增加0.7804歲\n",
    "3. 當每人GDP高一單位，其預期壽命會增加0.0077歲\n",
    "4. 當失業率高一百分比，其預期壽命會增加0.2698歲\n",
    "5. 當出口增加一單位，其預期壽命會增加0.0108歲\n",
    "6. 當進口增加一單位，其預期壽命會減少0.0076歲\n",
    "7. 當手機持有增加一單位，其預期壽命會增加0.1045歲\n",
    "\n",
    "三、在90%信心水準下，變數中只有 G-20、識字比率、失業率 為顯著"
   ]
  },
  {
   "cell_type": "code",
   "execution_count": null,
   "metadata": {},
   "outputs": [],
   "source": []
  }
 ],
 "metadata": {
  "kernelspec": {
   "display_name": "Python 3",
   "language": "python",
   "name": "python3"
  },
  "language_info": {
   "codemirror_mode": {
    "name": "ipython",
    "version": 3
   },
   "file_extension": ".py",
   "mimetype": "text/x-python",
   "name": "python",
   "nbconvert_exporter": "python",
   "pygments_lexer": "ipython3",
   "version": "3.7.3"
  }
 },
 "nbformat": 4,
 "nbformat_minor": 2
}
